{
 "cells": [
  {
   "cell_type": "markdown",
   "id": "cba3fb11-87ab-4fd6-8388-90a456385d43",
   "metadata": {},
   "source": [
    "# Data Science Tools and Ecosystem"
   ]
  },
  {
   "cell_type": "markdown",
   "id": "a128d9e5-97df-4023-a96f-a015e98bafdb",
   "metadata": {},
   "source": [
    "In this notebook, Data Science Tools and Ecosystem are summarized."
   ]
  },
  {
   "cell_type": "markdown",
   "id": "42c53e21-156b-490b-9fa1-77cb779b2a87",
   "metadata": {},
   "source": [
    "**Objectives:**\n",
    "- List popular languages for Data Science.\n",
    "- List commonly used libraries used by Data Scientists\n",
    "- Provide a table of development environment open source tools used in data science\n",
    "- Provide examples of evaluating arithmetic expressions in Python"
   ]
  },
  {
   "cell_type": "markdown",
   "id": "c9e706f8-d73c-45ff-900e-7b22dced16b2",
   "metadata": {},
   "source": [
    "Some of the popular languages that Data Scientists use are:\n",
    "1. Python\n",
    "2. R\n",
    "3. SQL\n",
    "4. Scala\n",
    "5. Java\n",
    "6. C++"
   ]
  },
  {
   "cell_type": "markdown",
   "id": "c02fc576-8913-46ba-9a5c-773f6e8be542",
   "metadata": {},
   "source": [
    "Some of the commonly used libraries used by Data Scientists include:\n",
    "1. Scientific Computing Libraries, for example: Pandas and NumPy\n",
    "2. Visualization Libraries, for example: Matplotlib and Seaborn\n",
    "3. Machine Learning and Deep Learning Libraries, for example: Scikit-learn and Keras\n",
    "4. Deep Learning Libraries, for example: TensorFlow and PyTorch\n"
   ]
  },
  {
   "cell_type": "markdown",
   "id": "b3e42501-2849-4c9b-81ae-000797aca456",
   "metadata": {},
   "source": [
    "|Data Science Tools|\n",
    "|------------------|\n",
    "|Jupyter Notebooks|\n",
    "|Jupyter Lab|\n",
    "|RStudio|\n"
   ]
  },
  {
   "cell_type": "markdown",
   "id": "1ff93609-21a8-4334-bb8d-8fb5577ef625",
   "metadata": {},
   "source": [
    "### Below are a few examples of evaluating arithmetic expressions in Python."
   ]
  },
  {
   "cell_type": "code",
   "execution_count": 3,
   "id": "97f8dbb6-f0a0-4e46-88f3-99483e7ea4ea",
   "metadata": {
    "tags": []
   },
   "outputs": [
    {
     "data": {
      "text/plain": [
       "17"
      ]
     },
     "execution_count": 3,
     "metadata": {},
     "output_type": "execute_result"
    }
   ],
   "source": [
    "# This a simple arithmetic expression to mutiply then add integers.\n",
    "(3*4)+5"
   ]
  },
  {
   "cell_type": "code",
   "execution_count": 4,
   "id": "72f7853c-237b-4131-84af-d3f388a1f14f",
   "metadata": {
    "tags": []
   },
   "outputs": [
    {
     "data": {
      "text/plain": [
       "3.3333333333333335"
      ]
     },
     "execution_count": 4,
     "metadata": {},
     "output_type": "execute_result"
    }
   ],
   "source": [
    "# This will convert 200 minutes to hours by diving by 60.\n",
    "200/60"
   ]
  },
  {
   "cell_type": "markdown",
   "id": "f8974ffe-c64d-4aaf-9b40-135c2d54457b",
   "metadata": {},
   "source": [
    "## Author\n",
    "Neerajan Sivarajah"
   ]
  },
  {
   "cell_type": "code",
   "execution_count": null,
   "id": "85b115cb-7b80-4621-bb97-58a470aaf797",
   "metadata": {},
   "outputs": [],
   "source": []
  }
 ],
 "metadata": {
  "kernelspec": {
   "display_name": "Python",
   "language": "python",
   "name": "conda-env-python-py"
  },
  "language_info": {
   "codemirror_mode": {
    "name": "ipython",
    "version": 3
   },
   "file_extension": ".py",
   "mimetype": "text/x-python",
   "name": "python",
   "nbconvert_exporter": "python",
   "pygments_lexer": "ipython3",
   "version": "3.7.12"
  }
 },
 "nbformat": 4,
 "nbformat_minor": 5
}
